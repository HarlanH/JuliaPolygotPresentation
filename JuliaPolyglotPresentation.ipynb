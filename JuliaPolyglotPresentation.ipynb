{
 "metadata": {
  "language": "Julia",
  "name": "",
  "signature": "sha256:4ee186ba8de95b24e67b4a0f05754a62c25f44179397e5a0deb924c38ce5018b"
 },
 "nbformat": 3,
 "nbformat_minor": 0,
 "worksheets": [
  {
   "cells": [
    {
     "cell_type": "heading",
     "level": 1,
     "metadata": {},
     "source": [
      "[Julia](http://julialang.org) -- applying language design lessons to technical computing"
     ]
    },
    {
     "cell_type": "heading",
     "level": 3,
     "metadata": {},
     "source": [
      "Harlan D. Harris, PhD"
     ]
    },
    {
     "cell_type": "markdown",
     "metadata": {},
     "source": [
      "Presented to the [Polyglot Programming DC Meetup](http://www.meetup.com/Polyglot-Programming-DC/events/186702032/), August 7th, 2014.\n",
      "\n",
      "GitHub repo: https://github.com/HarlanH/JuliaPolygotPresentation\n",
      "\n",
      "Huge parts of this presentation are cribbed from:\n",
      "\n",
      "* [Stefan Karpinski's 2013 Strange Loop presentation](http://nbviewer.ipython.org/gist/StefanKarpinski/b8fe9dbb36c1427b9f22)\n",
      "* [Jiahao Chen's presentation on Compilers and Community](http://www.slideshare.net/acidflask/julia-compilercommunity)\n",
      "* [Graydon Hoare's blog post on scientific computing languages](http://graydon2.dreamwidth.org/189377.html)\n",
      "\n",
      "And see also:\n",
      "\n",
      "* [Julia](http://julialang.org)\n",
      "* [Julia documentation](http://docs.julialang.org/)\n",
      "* [&#35;JuliaLang](http://twitter.com/julialang/)"
     ]
    },
    {
     "cell_type": "markdown",
     "metadata": {},
     "source": [
      "---"
     ]
    },
    {
     "cell_type": "markdown",
     "metadata": {},
     "source": [
      "## Background/Caveats:\n",
      "\n",
      "* I'm a data scientist -- at best I can fake being a software engineer or programming language expert\n",
      "* I don't use Julia in production (yet), although I've used it for several one-off analytics projects\n",
      "* Please ask questions! ...about stuff I know about...\n",
      "* I got hooked in 2012 -- this talk covers some of the reasons why"
     ]
    },
    {
     "cell_type": "markdown",
     "metadata": {},
     "source": [
      "---"
     ]
    },
    {
     "cell_type": "markdown",
     "metadata": {},
     "source": [
      "## Outline\n",
      "\n",
      "* ### Influences and Lessons Learned (for technical computing)\n",
      "* ### \"Script\" Language with \"Systems\" Performance (for technical computing)\n",
      "* ### Multiple Dispatch > Object Oriented Programming (for technical computing)\n",
      "* ### Community Matters; Easy Learning Curves Matter (demos of stuff I've done)"
     ]
    },
    {
     "cell_type": "markdown",
     "metadata": {},
     "source": [
      "---"
     ]
    },
    {
     "cell_type": "markdown",
     "metadata": {},
     "source": [
      "## Influences and Lessons Learned"
     ]
    },
    {
     "cell_type": "markdown",
     "metadata": {},
     "source": [
      "Stefan Karpinski, Jeff Bezanson, Viral Shaw, Alan Edelman (and the Father of Floating Point):\n",
      "\n",
      "![Stefan Karpinski, Jeff Bezanson, Viral Shaw, Alan Edelman (and the Father of Floating Point)](http://julialang.org/images/kahan.jpg)\n"
     ]
    },
    {
     "cell_type": "markdown",
     "metadata": {},
     "source": [
      "## Matlab\n",
      "\n",
      "Pros: fast matrix algebra, REPL, easy to start using\n",
      "\n",
      "Cons: commercial software, slow or impractical for many non-numeric tasks, syntax issues\n",
      "\n",
      "## LISP and Dylan\n",
      "\n",
      "Pros: multiple dispatch, macros\n",
      "\n",
      "Cons: obscure syntax, hard to learn\n",
      "\n",
      "## Python\n",
      "\n",
      "Pros: dynamic, great ecosystem, easy to start using, elegant OO design\n",
      "\n",
      "Cons: have to extend in C for performance, version and package issues\n",
      "\n",
      "## Fortran\n",
      "\n",
      "Pros: blazing fast, best-of-class algorithms\n",
      "\n",
      "Cons: hard to do anything but number crunching\n",
      "\n",
      "## Ruby\n",
      "\n",
      "Pros: syntax matters, dynamic, great ecosystem\n",
      "\n",
      "Cons: very slow, especially for numerical work\n",
      "\n",
      "## R\n",
      "\n",
      "Pros: domain-specific but not domain-limited, huge package ecosystem, great interactivity\n",
      "\n",
      "Cons: forces vectorization for speed, hard to contribute to core, quirky\n",
      "\n",
      "## Javascript\n",
      "\n",
      "Pros: blazing fast JIT compilers, forces asynchronous design thinking\n",
      "\n",
      "Cons: everything else\n",
      "\n",
      "## C\n",
      "\n",
      "Pros: simple syntax, very fast\n",
      "\n",
      "Cons: no REPL, error-prone memory handling, static typing means hard to start\n"
     ]
    },
    {
     "cell_type": "markdown",
     "metadata": {},
     "source": [
      "---"
     ]
    },
    {
     "cell_type": "markdown",
     "metadata": {},
     "source": [
      "## Julia\n",
      "\n",
      "* dynamic, garbage collected\n",
      "* single inheritance type system; only leaf types instantiatable\n",
      "* BiC REPL; LLVM JIT; runtime type analysis and specialization\n",
      "* within 2x of C/C++, usually\n",
      "* multiple dispatch; types have slots, but no methods\n",
      "* base library includes BiC linear algebra libraries and matrix types\n",
      "* simple syntax resembles Matlab, Ruby\n",
      "* modern features: list comprehensions, do blocks, functional features, Unicode\n",
      "* almost all of core written in Julia (rest in C with a LISP parser)\n",
      "* @macros for metaprogramming, used in libraries for performance\n",
      "* package system based on git encourages collaboration\n",
      "* distributed computing baked in\n",
      "* MIT licensed"
     ]
    },
    {
     "cell_type": "markdown",
     "metadata": {},
     "source": [
      "---"
     ]
    },
    {
     "cell_type": "markdown",
     "metadata": {},
     "source": [
      "## \"Script\" Language but \"Systems\" Performance\n",
      "\n",
      "#### Must read: Graydon Hoare's [two](http://graydon2.dreamwidth.org/3186.html)-[part](http://graydon2.dreamwidth.org/189377.html) essay on interactive scientific computing\n",
      "\n",
      "*Common pattern*: Outer scripting language wraps inner systems language (JCL + Asm, Matlab + Fortran, R/Python + C, Javascript + C++)\n",
      "* This sucks for technical computing -- who's got time?!?\n",
      "\n",
      "*Object oriented programming*: Easy to add new types!\n",
      "* This sucks for technical computing -- I want to add methods, not types, usually!\n",
      "\n",
      "*Web-centric languages*! Yay!\n",
      "* This sucks for technical computing -- I need interactivity, iteration, and raw speed!\n",
      "\n",
      "#### What if you could take all these lessons and build something better?\n"
     ]
    },
    {
     "cell_type": "markdown",
     "metadata": {},
     "source": [
      "## [Jameson Nash in Julia-Users](https://groups.google.com/d/topic/julia-users/Uu_UcYp49Qo/discussion)\n",
      "\n",
      ">Julia was designed from the beginning to have certain features that are necessary for high performance: \n",
      "* type stability\n",
      "* pervasive type inference\n",
      "* execution semantics that closely match the hardware capabilities (pass-by-sharing, machine arithmetic)\n",
      "* inlining\n",
      "* macros\n",
      "\n",
      ">Additionally, certain oft-requested features were not included which make high performance much more difficult \u2013 or impossible \u2013 to achieve. These include: \n",
      "* pass-by-copy\n",
      "* first class local namespaces (aka eval in function scope)\n",
      "* allowing overloading of the getfield function (a.b access)"
     ]
    },
    {
     "cell_type": "markdown",
     "metadata": {},
     "source": [
      "## First Example: Collatz step counting"
     ]
    },
    {
     "cell_type": "code",
     "collapsed": false,
     "input": [
      "function collatz(n) # unproven: always terminates\n",
      "    k = 0\n",
      "    while n > 1\n",
      "        n = isodd(n) ? 3n+1 : n>>1\n",
      "        k += 1\n",
      "    end\n",
      "    return k\n",
      "end"
     ],
     "language": "python",
     "metadata": {},
     "outputs": [
      {
       "metadata": {},
       "output_type": "pyout",
       "prompt_number": 1,
       "text": [
        "collatz (generic function with 1 method)"
       ]
      }
     ],
     "prompt_number": 1
    },
    {
     "cell_type": "markdown",
     "metadata": {},
     "source": [
      "### Notes:\n",
      "\n",
      "* Simple syntax -- blocks, no {}, no ;, no whitespace rules\n",
      "* Types will be inferred at runtime; JIT compile a _specialized_ version\n",
      "* `3n+1` works like God intended"
     ]
    },
    {
     "cell_type": "code",
     "collapsed": true,
     "input": [
      "collatz(89)"
     ],
     "language": "python",
     "metadata": {},
     "outputs": [
      {
       "metadata": {},
       "output_type": "pyout",
       "prompt_number": 2,
       "text": [
        "30"
       ]
      }
     ],
     "prompt_number": 2
    },
    {
     "cell_type": "code",
     "collapsed": true,
     "input": [
      "for i = 2:2:20\n",
      "    \u03b1 = collatz(i)\n",
      "    println(\"$i = $\u03b1\")\n",
      "end"
     ],
     "language": "python",
     "metadata": {},
     "outputs": [
      {
       "output_type": "stream",
       "stream": "stdout",
       "text": [
        "2 = 1\n"
       ]
      },
      {
       "output_type": "stream",
       "stream": "stdout",
       "text": [
        "4 = 2\n",
        "6 = 8\n",
        "8 = 3\n",
        "10 = 6\n",
        "12 = 9\n",
        "14 = 17\n",
        "16 = 4\n",
        "18 = 20\n",
        "20 = 7\n"
       ]
      }
     ],
     "prompt_number": 3
    },
    {
     "cell_type": "markdown",
     "metadata": {},
     "source": [
      "### Notes:\n",
      "\n",
      "* range is an iterator; not being expanded\n",
      "* Unicode is cool, LaTeX is cooler: \\alpha + tab = \u03b1\n",
      "* string interpolation\n",
      "* powers of two take fewest steps"
     ]
    },
    {
     "cell_type": "code",
     "collapsed": false,
     "input": [
      "@time for i = 1:1e6 collatz(18) end"
     ],
     "language": "python",
     "metadata": {},
     "outputs": [
      {
       "output_type": "stream",
       "stream": "stdout",
       "text": [
        "elapsed time: 0."
       ]
      },
      {
       "output_type": "stream",
       "stream": "stdout",
       "text": [
        "041812339 seconds (96 bytes allocated)\n"
       ]
      }
     ],
     "prompt_number": 4
    },
    {
     "cell_type": "markdown",
     "metadata": {},
     "source": [
      "### Notes:\n",
      "\n",
      "* @macro expands into tic/toc/printf sorta thing\n",
      "* compact!\n",
      "* seems fast... why?"
     ]
    },
    {
     "cell_type": "code",
     "collapsed": false,
     "input": [
      "@code_native collatz(123)"
     ],
     "language": "python",
     "metadata": {},
     "outputs": [
      {
       "output_type": "stream",
       "stream": "stdout",
       "text": [
        "\t.section\t__TEXT,__text,regular,pure_instructions\n",
        "Filename: In[1]\n",
        "Source line: 4\n",
        "\tpush\tRBP\n",
        "\tmov\tRBP, RSP\n",
        "\txor\tEAX, EAX\n",
        "\tcmp\tRDI, 2\n",
        "\tjl\t36\n",
        "Source line: 4\n",
        "\ttest\tDIL, 1\n",
        "\tjne\t8\n",
        "\tsar\tRDI\n",
        "\tjmpq\t5\n",
        "\tlea\tRDI, QWORD PTR [RDI + 2*RDI + 1]\n",
        "Source line: 5\n",
        "\tinc\tRAX\n",
        "\tcmp\tRDI, 1\n",
        "\tjg\t-36\n",
        "Source line: 7\n",
        "\tpop\tRBP\n",
        "\tret\n"
       ]
      }
     ],
     "prompt_number": 5
    },
    {
     "cell_type": "code",
     "collapsed": false,
     "input": [
      "@code_llvm collatz(123)"
     ],
     "language": "python",
     "metadata": {},
     "outputs": [
      {
       "output_type": "stream",
       "stream": "stdout",
       "text": [
        "\n",
        "define i64 @\"julia_collatz;20213\"(i64) {\n",
        "top:\n",
        "  %1 = icmp slt i64 %0, 2, !dbg !1800\n",
        "  br i1 %1, label %L6, label %L, !dbg !1800\n",
        "\n",
        "L:                                                ; preds = %top, %L3\n",
        "  %k.0 = phi i64 [ %7, %L3 ], [ 0, %top ]\n",
        "  %n.0 = phi i64 [ %n.1, %L3 ], [ %0, %top ]\n",
        "  %2 = and i64 %n.0, 1, !dbg !1801\n",
        "  %3 = icmp eq i64 %2, 0, !dbg !1801\n",
        "  br i1 %3, label %L2, label %if1, !dbg !1801\n",
        "\n",
        "if1:                                              ; preds = %L\n",
        "  %4 = mul i64 %n.0, 3, !dbg !1801\n",
        "  %5 = add i64 %4, 1, !dbg !1801\n",
        "  br label %L3, !dbg !1801\n",
        "\n",
        "L2:                                               ; preds = %L\n",
        "  %6 = ashr i64 %n.0, 1, !dbg !1801\n",
        "  br label %L3, !dbg !1801\n",
        "\n",
        "L3:                                               ; preds = %L2, %if1\n",
        "  %n.1 = phi i64 [ %6, %L2 ], [ %5, %if1 ]\n",
        "  %7 = add i64 %k.0, 1, !dbg !1802\n",
        "  %8 = icmp sgt i64 %n.1, 1, !dbg !1802\n",
        "  br i1 %8, label %L, label %L6, !dbg !1802\n",
        "\n",
        "L6:                                               ; preds = %L3, %top\n",
        "  %k.1 = phi i64 [ 0, %top ], [ %7, %L3 ]\n",
        "  ret i64 %k.1, !dbg !1803\n",
        "}\n"
       ]
      }
     ],
     "prompt_number": 6
    },
    {
     "cell_type": "markdown",
     "metadata": {},
     "source": [
      "---"
     ]
    },
    {
     "cell_type": "markdown",
     "metadata": {},
     "source": [
      "## Multi-Methods & Multiple Dispatch > Standard OOP\n",
      "\n",
      "From Stefan Karpinski, [The Design Impact of Multiple Dispatch](http://nbviewer.ipython.org/gist/StefanKarpinski/b8fe9dbb36c1427b9f22), and Jiahao Chen, [Julia Compiler and Community](http://www.slideshare.net/acidflask/julia-compilercommunity)."
     ]
    },
    {
     "cell_type": "markdown",
     "metadata": {},
     "source": [
      "## Multiple Dispatch -- a type of Polymorphism\n",
      "\n",
      "* **dynamic** \u2014 based on actual run-time type, not static type (C++)\n",
      "* **multiple** \u2014 based on all arguments, not just the receiver \n",
      "\n",
      "Tends to be written as function application:\n",
      "\n",
      "`f(a,b,c)` \u27f8 LIKE THIS\n",
      "\n",
      "`a.f(b,c)` \u27f8 NOT THIS"
     ]
    },
    {
     "cell_type": "markdown",
     "metadata": {},
     "source": [
      "### OOP: What can I _do_ to or with a _thing_?\n",
      "\n",
      "* **SmartTrip Card**: _buy_, _recharge_, _pay metro fare_, _pay bus fare_, _lose_\n",
      "* **Metrorail Farecard**: _buy_, _pay metro fare_, _lose_\n",
      "* **Cash**: _pay bus fare_, _lose_\n",
      "* _object_: _method(s)_\n",
      "* _classes_ are fundamental; _methods_ attach to classes \n",
      "\n",
      "### Multi-Methods (& Multiple Dispatch): What (combinations of) _things_ can _do_ this?\n",
      "\n",
      "* **buy**: _farecard_\n",
      "* **recharge**: _rechargable faircard_\n",
      "* **pay**: _metro fare_ + _farecard_\n",
      "* **pay**: _bus fare_ + SmartTrip Card OR Cash\n",
      "* **lose**: _Any_\n",
      "* _generic method_: applicable _object(s)_\n",
      "* _methods_ are fundamental; _classes_ or sets of classes define what's legal"
     ]
    },
    {
     "cell_type": "heading",
     "level": 3,
     "metadata": {},
     "source": [
      "Example"
     ]
    },
    {
     "cell_type": "code",
     "collapsed": false,
     "input": [
      "f(a::Any, b) = \"fallback\"\n",
      "f(a::Number, b::Number) = \"a and b are both numbers\"\n",
      "f(a::Number, b) = \"a is a number\"\n",
      "f(a, b::Number) = \"b is a number\"\n",
      "f(a::Integer, b::Integer) = \"a and b are both integers\""
     ],
     "language": "python",
     "metadata": {},
     "outputs": [
      {
       "metadata": {},
       "output_type": "pyout",
       "prompt_number": 7,
       "text": [
        "f (generic function with 5 methods)"
       ]
      }
     ],
     "prompt_number": 7
    },
    {
     "cell_type": "markdown",
     "metadata": {},
     "source": [
      "### Notes:\n",
      "\n",
      "* single-line function syntactic sugar looks math-y\n",
      "* `a::Any` is unnecessary\n",
      "* all of these types are abstract; concrete types are `Float64`, `Int64`, etc., inferred"
     ]
    },
    {
     "cell_type": "code",
     "collapsed": false,
     "input": [
      "f(1.5, 2)"
     ],
     "language": "python",
     "metadata": {},
     "outputs": [
      {
       "metadata": {},
       "output_type": "pyout",
       "prompt_number": 8,
       "text": [
        "\"a and b are both numbers\""
       ]
      }
     ],
     "prompt_number": 8
    },
    {
     "cell_type": "code",
     "collapsed": false,
     "input": [
      "print(typeof(1.5), \", \", typeof(2))"
     ],
     "language": "python",
     "metadata": {},
     "outputs": [
      {
       "output_type": "stream",
       "stream": "stdout",
       "text": [
        "Float64, "
       ]
      },
      {
       "output_type": "stream",
       "stream": "stdout",
       "text": [
        "Int64"
       ]
      }
     ],
     "prompt_number": 9
    },
    {
     "cell_type": "code",
     "collapsed": false,
     "input": [
      "f(1, \"bar\")"
     ],
     "language": "python",
     "metadata": {},
     "outputs": [
      {
       "metadata": {},
       "output_type": "pyout",
       "prompt_number": 10,
       "text": [
        "\"a is a number\""
       ]
      }
     ],
     "prompt_number": 10
    },
    {
     "cell_type": "code",
     "collapsed": false,
     "input": [
      "f(1, 2)"
     ],
     "language": "python",
     "metadata": {},
     "outputs": [
      {
       "metadata": {},
       "output_type": "pyout",
       "prompt_number": 11,
       "text": [
        "\"a and b are both integers\""
       ]
      }
     ],
     "prompt_number": 11
    },
    {
     "cell_type": "code",
     "collapsed": false,
     "input": [
      "f(\"foo\", [1,2])"
     ],
     "language": "python",
     "metadata": {},
     "outputs": [
      {
       "metadata": {},
       "output_type": "pyout",
       "prompt_number": 12,
       "text": [
        "\"fallback\""
       ]
      }
     ],
     "prompt_number": 12
    },
    {
     "cell_type": "markdown",
     "metadata": {},
     "source": [
      "#### Diagonal Dispatch:"
     ]
    },
    {
     "cell_type": "code",
     "collapsed": false,
     "input": [
      "f{T<:Number}(a::T, b::T) = \"a and b are both $(T)s\""
     ],
     "language": "python",
     "metadata": {},
     "outputs": [
      {
       "metadata": {},
       "output_type": "pyout",
       "prompt_number": 13,
       "text": [
        "f (generic function with 6 methods)"
       ]
      }
     ],
     "prompt_number": 13
    },
    {
     "cell_type": "code",
     "collapsed": false,
     "input": [
      "methods(f)"
     ],
     "language": "python",
     "metadata": {},
     "outputs": [
      {
       "html": [
        "6 methods for generic function <b>f</b>:<ul><li> f(a::<b>Integer</b>,b::<b>Integer</b>) at In[7]:5<li> f<i>{T<:Number}</i>(a::<b>T<:Number</b>,b::<b>T<:Number</b>) at In[13]:1<li> f(a::<b>Number</b>,b::<b>Number</b>) at In[7]:2<li> f(a::<b>Number</b>,b) at In[7]:3<li> f(a,b::<b>Number</b>) at In[7]:4<li> f(a,b) at In[7]:1</ul>"
       ],
       "metadata": {},
       "output_type": "pyout",
       "prompt_number": 14,
       "text": [
        "# 6 methods for generic function \"f\":\n",
        "f(a::Integer,b::Integer) at In[7]:5\n",
        "f{T<:Number}(a::T<:Number,b::T<:Number) at In[13]:1\n",
        "f(a::Number,b::Number) at In[7]:2\n",
        "f(a::Number,b) at In[7]:3\n",
        "f(a,b::Number) at In[7]:4\n",
        "f(a,b) at In[7]:1"
       ]
      }
     ],
     "prompt_number": 14
    },
    {
     "cell_type": "code",
     "collapsed": false,
     "input": [
      "f(big(1.5), big(2.5))"
     ],
     "language": "python",
     "metadata": {},
     "outputs": [
      {
       "metadata": {},
       "output_type": "pyout",
       "prompt_number": 15,
       "text": [
        "\"a and b are both BigFloats\""
       ]
      }
     ],
     "prompt_number": 15
    },
    {
     "cell_type": "code",
     "collapsed": false,
     "input": [
      "f(\"foo\", \"bar\") #<== still doesn't apply to non-numbers"
     ],
     "language": "python",
     "metadata": {},
     "outputs": [
      {
       "metadata": {},
       "output_type": "pyout",
       "prompt_number": 16,
       "text": [
        "\"fallback\""
       ]
      }
     ],
     "prompt_number": 16
    },
    {
     "cell_type": "heading",
     "level": 2,
     "metadata": {},
     "source": [
      "Interval Arithmatic"
     ]
    },
    {
     "cell_type": "code",
     "collapsed": false,
     "input": [
      "immutable Interval{T<:Real} <: Number\n",
      "  lo::T\n",
      "  hi::T\n",
      "end\n",
      "\n",
      "(a::Real)..(b::Real) = Interval(a,b)\n",
      "\n",
      "Base.show(io::IO, iv::Interval) = print(io, \"($(iv.lo))..($(iv.hi))\")"
     ],
     "language": "python",
     "metadata": {},
     "outputs": [
      {
       "metadata": {},
       "output_type": "pyout",
       "prompt_number": 17,
       "text": [
        "show (generic function with 85 methods)"
       ]
      }
     ],
     "prompt_number": 17
    },
    {
     "cell_type": "code",
     "collapsed": false,
     "input": [
      "(1..2) + 3 # tries but fails to find a way to reconcile two Numbers"
     ],
     "language": "python",
     "metadata": {},
     "outputs": [
      {
       "ename": "LoadError",
       "evalue": "no promotion exists for Interval{Int64} and Int64\nwhile loading In[18], in expression starting on line 1",
       "output_type": "pyerr",
       "traceback": [
        "no promotion exists for Interval{Int64} and Int64\nwhile loading In[18], in expression starting on line 1",
        " in + at promotion.jl:158"
       ]
      }
     ],
     "prompt_number": 18
    },
    {
     "cell_type": "markdown",
     "metadata": {},
     "source": [
      "### Notes:\n",
      "\n",
      "* An interval is a structure parameterized by a subclass of Real, subclassing Number (\"type lattice\")\n",
      "* `..` is a binary operator/function with syntax but no built-in methods\n",
      "* Default constructor is adequate here\n",
      "* Extending `show()` in Base module\n",
      "* Note fancypants interpolation of expressions"
     ]
    },
    {
     "cell_type": "code",
     "collapsed": false,
     "input": [
      "1..2"
     ],
     "language": "python",
     "metadata": {},
     "outputs": [
      {
       "metadata": {},
       "output_type": "pyout",
       "prompt_number": 19,
       "text": [
        "(1)..(2)"
       ]
      }
     ],
     "prompt_number": 19
    },
    {
     "cell_type": "code",
     "collapsed": true,
     "input": [
      "typeof(ans)"
     ],
     "language": "python",
     "metadata": {},
     "outputs": [
      {
       "metadata": {},
       "output_type": "pyout",
       "prompt_number": 20,
       "text": [
        "Interval{Int64} (constructor with 1 method)"
       ]
      }
     ],
     "prompt_number": 20
    },
    {
     "cell_type": "code",
     "collapsed": false,
     "input": [
      "sizeof(1..2) # two 64-bit/8-byte ints"
     ],
     "language": "python",
     "metadata": {},
     "outputs": [
      {
       "metadata": {},
       "output_type": "pyout",
       "prompt_number": 21,
       "text": [
        "16"
       ]
      }
     ],
     "prompt_number": 21
    },
    {
     "cell_type": "code",
     "collapsed": false,
     "input": [
      "(1//2)..(2//3)"
     ],
     "language": "python",
     "metadata": {},
     "outputs": [
      {
       "metadata": {},
       "output_type": "pyout",
       "prompt_number": 22,
       "text": [
        "(1//2)..(2//3)"
       ]
      }
     ],
     "prompt_number": 22
    },
    {
     "cell_type": "code",
     "collapsed": false,
     "input": [
      "a::Interval + b::Interval = (a.lo + b.lo)..(a.hi + b.hi)\n",
      "a::Interval - b::Interval = (a.lo - b.hi)..(a.hi - b.lo)"
     ],
     "language": "python",
     "metadata": {},
     "outputs": [
      {
       "metadata": {},
       "output_type": "pyout",
       "prompt_number": 23,
       "text": [
        "- (generic function with 138 methods)"
       ]
      }
     ],
     "prompt_number": 23
    },
    {
     "cell_type": "code",
     "collapsed": false,
     "input": [
      "(2..3) + (-1..1)"
     ],
     "language": "python",
     "metadata": {},
     "outputs": [
      {
       "metadata": {},
       "output_type": "pyout",
       "prompt_number": 24,
       "text": [
        "(1)..(4)"
       ]
      }
     ],
     "prompt_number": 24
    },
    {
     "cell_type": "code",
     "collapsed": false,
     "input": [
      "(2..3) + (1.0..3.14159)  # autoconverts"
     ],
     "language": "python",
     "metadata": {},
     "outputs": [
      {
       "metadata": {},
       "output_type": "pyout",
       "prompt_number": 25,
       "text": [
        "(3.0)..(6.14159)"
       ]
      }
     ],
     "prompt_number": 25
    },
    {
     "cell_type": "code",
     "collapsed": false,
     "input": [
      "@code_native (2..3) + (-1..1)"
     ],
     "language": "python",
     "metadata": {},
     "outputs": [
      {
       "output_type": "stream",
       "stream": "stdout",
       "text": [
        "\t.section\t__TEXT,__text,regular,pure_instructions\n",
        "Filename: In[23]\n",
        "Source line: 1\n",
        "\tpush\tRBP\n",
        "\tmov\tRBP, RSP\n",
        "Source line: 1\n",
        "\tadd\tRDI, RDX\n",
        "\tadd\tRSI, RCX\n",
        "\tmov\tRAX, RDI\n",
        "\tmov\tRDX, RSI\n",
        "\tpop\tRBP\n",
        "\tret\n"
       ]
      }
     ],
     "prompt_number": 26
    },
    {
     "cell_type": "markdown",
     "metadata": {},
     "source": [
      "## Design Impacts of Multiple Dispatch\n",
      "\n",
      "_(below quoted from Stefan Karpinski)_\n",
      "\n",
      "Generic functions in Julia aren't special \u2013 they're the default\n",
      "\n",
      "* even really basic things like `+` are generic functions"
     ]
    },
    {
     "cell_type": "markdown",
     "metadata": {},
     "source": [
      "This means you're free to extend everything\n",
      "\n",
      "* not just functions that were planned to be extended\n",
      "* and everything's compiled the same way, so it's fast"
     ]
    },
    {
     "cell_type": "markdown",
     "metadata": {},
     "source": [
      "Since generic functions are open:\n",
      "\n",
      "* functions are more like _protocols_ which users can also implement\n",
      "\n",
      "We're forced to think much harder about the _meaning_ of operations\n",
      "\n",
      "* can't just describe their behavior.\n",
      "\n",
      "Results, if done well, are abstractions, defined generically, that extend easily\n",
      "\n",
      "* which is particularly important for mathematical objects."
     ]
    },
    {
     "cell_type": "markdown",
     "metadata": {},
     "source": [
      "---"
     ]
    },
    {
     "cell_type": "markdown",
     "metadata": {},
     "source": [
      "## Community Matters; Easy Learning Curves Matter\n",
      "\n",
      "* Users == Developers\n",
      "* git(hub)-based package ecosystem encourages\n",
      "  * pull requests, not forks\n",
      "  * collaboration and [adhocracy](https://en.wikipedia.org/wiki/Here_Comes_Everybody)\n",
      "\n",
      "## Three personal examples\n",
      "\n",
      "* `round(number, digits, base)`\n",
      "* `DataFrames`\n",
      "* `VennEuler` (shown elsewhere)"
     ]
    },
    {
     "cell_type": "code",
     "collapsed": true,
     "input": [
      "methods(round) # click through..."
     ],
     "language": "python",
     "metadata": {},
     "outputs": [
      {
       "html": [
        "15 methods for generic function <b>round</b>:<ul><li> round(x::<b>Integer</b>) at <a href=\"https://github.com/JuliaLang/julia/tree/665d27befa86ff0144d859b512313a8944329687/base/int.jl#L368\" target=\"_blank\">int.jl:368</a><li> round(x::<b>Float64</b>) at <a href=\"https://github.com/JuliaLang/julia/tree/665d27befa86ff0144d859b512313a8944329687/base/float.jl#L102\" target=\"_blank\">float.jl:102</a><li> round(x::<b>Rational{T<:Integer}</b>) at <a href=\"https://github.com/JuliaLang/julia/tree/665d27befa86ff0144d859b512313a8944329687/base/rational.jl#L164\" target=\"_blank\">rational.jl:164</a><li> round(x::<b>Float32</b>) at <a href=\"https://github.com/JuliaLang/julia/tree/665d27befa86ff0144d859b512313a8944329687/base/math.jl#L142\" target=\"_blank\">math.jl:142</a><li> round<i>{Tv,Ti}</i>(A::<b>SparseMatrixCSC{Tv,Ti}</b>) at <a href=\"https://github.com/JuliaLang/julia/tree/665d27befa86ff0144d859b512313a8944329687/base/sparse/sparsematrix.jl#L447\" target=\"_blank\">sparse/sparsematrix.jl:447</a><li> round(M::<b>SymTridiagonal{T}</b>) at <a href=\"https://github.com/JuliaLang/julia/tree/665d27befa86ff0144d859b512313a8944329687/base/linalg/tridiag.jl#L33\" target=\"_blank\">linalg/tridiag.jl:33</a><li> round(M::<b>Tridiagonal{T}</b>) at <a href=\"https://github.com/JuliaLang/julia/tree/665d27befa86ff0144d859b512313a8944329687/base/linalg/tridiag.jl#L190\" target=\"_blank\">linalg/tridiag.jl:190</a><li> iround(M::<b>Bidiagonal{T}</b>) at <a href=\"https://github.com/JuliaLang/julia/tree/665d27befa86ff0144d859b512313a8944329687/base/linalg/bidiag.jl#L68\" target=\"_blank\">linalg/bidiag.jl:68</a><li> round<i>{T<:Real}</i>(::<b>AbstractArray{T<:Real,1}</b>) at <a href=\"https://github.com/JuliaLang/julia/tree/665d27befa86ff0144d859b512313a8944329687/base/operators.jl#L359\" target=\"_blank\">operators.jl:359</a><li> round<i>{T<:Real}</i>(::<b>AbstractArray{T<:Real,2}</b>) at <a href=\"https://github.com/JuliaLang/julia/tree/665d27befa86ff0144d859b512313a8944329687/base/operators.jl#L360\" target=\"_blank\">operators.jl:360</a><li> round<i>{T<:Real}</i>(::<b>AbstractArray{T<:Real,N}</b>) at <a href=\"https://github.com/JuliaLang/julia/tree/665d27befa86ff0144d859b512313a8944329687/base/operators.jl#L362\" target=\"_blank\">operators.jl:362</a><li> round(x::<b>Float16</b>) at <a href=\"https://github.com/JuliaLang/julia/tree/665d27befa86ff0144d859b512313a8944329687/base/float16.jl#L108\" target=\"_blank\">float16.jl:108</a><li> round(x::<b>BigFloat</b>) at <a href=\"https://github.com/JuliaLang/julia/tree/665d27befa86ff0144d859b512313a8944329687/base/mpfr.jl#L694\" target=\"_blank\">mpfr.jl:694</a><li> round(x,digits::<b>Integer</b>) at <a href=\"https://github.com/JuliaLang/julia/tree/665d27befa86ff0144d859b512313a8944329687/base/floatfuncs.jl#L85\" target=\"_blank\">floatfuncs.jl:85</a><li> round(x,digits::<b>Integer</b>,base::<b>Integer</b>) at <a href=\"https://github.com/JuliaLang/julia/tree/665d27befa86ff0144d859b512313a8944329687/base/floatfuncs.jl#L85\" target=\"_blank\">floatfuncs.jl:85</a></ul>"
       ],
       "metadata": {},
       "output_type": "pyout",
       "prompt_number": 27,
       "text": [
        "# 15 methods for generic function \"round\":\n",
        "round(x::Integer) at int.jl:368\n",
        "round(x::Float64) at float.jl:102\n",
        "round(x::Rational{T<:Integer}) at rational.jl:164\n",
        "round(x::Float32) at math.jl:142\n",
        "round{Tv,Ti}(A::SparseMatrixCSC{Tv,Ti}) at sparse/sparsematrix.jl:447\n",
        "round(M::SymTridiagonal{T}) at linalg/tridiag.jl:33\n",
        "round(M::Tridiagonal{T}) at linalg/tridiag.jl:190\n",
        "iround(M::Bidiagonal{T}) at linalg/bidiag.jl:68\n",
        "round{T<:Real}(::AbstractArray{T<:Real,1}) at operators.jl:359\n",
        "round{T<:Real}(::AbstractArray{T<:Real,2}) at operators.jl:360\n",
        "round{T<:Real}(::AbstractArray{T<:Real,N}) at operators.jl:362\n",
        "round(x::Float16) at float16.jl:108\n",
        "round(x::BigFloat) at mpfr.jl:694\n",
        "round(x,digits::Integer) at floatfuncs.jl:85\n",
        "round(x,digits::Integer,base::Integer) at floatfuncs.jl:85"
       ]
      }
     ],
     "prompt_number": 27
    },
    {
     "cell_type": "code",
     "collapsed": false,
     "input": [
      "round(123.321)"
     ],
     "language": "python",
     "metadata": {},
     "outputs": [
      {
       "metadata": {},
       "output_type": "pyout",
       "prompt_number": 28,
       "text": [
        "123.0"
       ]
      }
     ],
     "prompt_number": 28
    },
    {
     "cell_type": "code",
     "collapsed": false,
     "input": [
      "round(123.321, 2)"
     ],
     "language": "python",
     "metadata": {},
     "outputs": [
      {
       "metadata": {},
       "output_type": "pyout",
       "prompt_number": 29,
       "text": [
        "123.32"
       ]
      }
     ],
     "prompt_number": 29
    },
    {
     "cell_type": "code",
     "collapsed": false,
     "input": [
      "round(123.321, -1)"
     ],
     "language": "python",
     "metadata": {},
     "outputs": [
      {
       "metadata": {},
       "output_type": "pyout",
       "prompt_number": 30,
       "text": [
        "120.0"
       ]
      }
     ],
     "prompt_number": 30
    },
    {
     "cell_type": "code",
     "collapsed": false,
     "input": [
      "round(123.321, 1, 2)"
     ],
     "language": "python",
     "metadata": {},
     "outputs": [
      {
       "metadata": {},
       "output_type": "pyout",
       "prompt_number": 31,
       "text": [
        "123.5"
       ]
      }
     ],
     "prompt_number": 31
    },
    {
     "cell_type": "code",
     "collapsed": false,
     "input": [
      "for i = 1:10 println(round(123.321, i, 2)) end"
     ],
     "language": "python",
     "metadata": {},
     "outputs": [
      {
       "output_type": "stream",
       "stream": "stdout",
       "text": [
        "123."
       ]
      },
      {
       "output_type": "stream",
       "stream": "stdout",
       "text": [
        "5\n",
        "123.25\n",
        "123.375\n",
        "123.3125\n",
        "123.3125\n",
        "123.328125\n",
        "123.3203125\n",
        "123.3203125\n",
        "123.3203125\n",
        "123.3212890625\n"
       ]
      }
     ],
     "prompt_number": 32
    },
    {
     "cell_type": "markdown",
     "metadata": {},
     "source": [
      "### DataFrames and Packages"
     ]
    },
    {
     "cell_type": "code",
     "collapsed": false,
     "input": [
      "Pkg.installed()"
     ],
     "language": "python",
     "metadata": {},
     "outputs": [
      {
       "metadata": {},
       "output_type": "pyout",
       "prompt_number": 33,
       "text": [
        "Dict{ASCIIString,VersionNumber} with 22 entries:\n",
        "  \"Homebrew\"          => v\"0.1.8\"\n",
        "  \"Nettle\"            => v\"0.1.4\"\n",
        "  \"REPLCompletions\"   => v\"0.0.1\"\n",
        "  \"SortingAlgorithms\" => v\"0.0.1\"\n",
        "  \"NLopt\"             => v\"0.1.1\"\n",
        "  \"Color\"             => v\"0.2.11\"\n",
        "  \"ZMQ\"               => v\"0.1.13\"\n",
        "  \"ArrayViews\"        => v\"0.4.6\"\n",
        "  \"JSON\"              => v\"0.3.7\"\n",
        "  \"StatsBase\"         => v\"0.6.3\"\n",
        "  \"DataArrays\"        => v\"0.2.0\"\n",
        "  \"Iterators\"         => v\"0.1.6\"\n",
        "  \"IJulia\"            => v\"0.1.12\"\n",
        "  \"RDatasets\"         => v\"0.1.1\"\n",
        "  \"GZip\"              => v\"0.2.13\"\n",
        "  \"MathProgBase\"      => v\"0.2.5\"\n",
        "  \"BinDeps\"           => v\"0.2.14\"\n",
        "  \"Cairo\"             => v\"0.2.15\"\n",
        "  \"DataFrames\"        => v\"0.5.7\"\n",
        "  \"Reexport\"          => v\"0.0.1\"\n",
        "  \"VennEuler\"         => v\"0.0.0-\"\n",
        "  \"URIParser\"         => v\"0.0.2\""
       ]
      }
     ],
     "prompt_number": 33
    },
    {
     "cell_type": "code",
     "collapsed": false,
     "input": [
      "using RDatasets\n",
      "iris = dataset(\"datasets\", \"iris\")"
     ],
     "language": "python",
     "metadata": {},
     "outputs": [
      {
       "html": [
        "<table class=\"data-frame\"><tr><th></th><th>SepalLength</th><th>SepalWidth</th><th>PetalLength</th><th>PetalWidth</th><th>Species</th></tr><tr><th>1</th><td>5.1</td><td>3.5</td><td>1.4</td><td>0.2</td><td>setosa</td></tr><tr><th>2</th><td>4.9</td><td>3.0</td><td>1.4</td><td>0.2</td><td>setosa</td></tr><tr><th>3</th><td>4.7</td><td>3.2</td><td>1.3</td><td>0.2</td><td>setosa</td></tr><tr><th>4</th><td>4.6</td><td>3.1</td><td>1.5</td><td>0.2</td><td>setosa</td></tr><tr><th>5</th><td>5.0</td><td>3.6</td><td>1.4</td><td>0.2</td><td>setosa</td></tr><tr><th>6</th><td>5.4</td><td>3.9</td><td>1.7</td><td>0.4</td><td>setosa</td></tr><tr><th>7</th><td>4.6</td><td>3.4</td><td>1.4</td><td>0.3</td><td>setosa</td></tr><tr><th>8</th><td>5.0</td><td>3.4</td><td>1.5</td><td>0.2</td><td>setosa</td></tr><tr><th>9</th><td>4.4</td><td>2.9</td><td>1.4</td><td>0.2</td><td>setosa</td></tr><tr><th>10</th><td>4.9</td><td>3.1</td><td>1.5</td><td>0.1</td><td>setosa</td></tr><tr><th>11</th><td>5.4</td><td>3.7</td><td>1.5</td><td>0.2</td><td>setosa</td></tr><tr><th>12</th><td>4.8</td><td>3.4</td><td>1.6</td><td>0.2</td><td>setosa</td></tr><tr><th>13</th><td>4.8</td><td>3.0</td><td>1.4</td><td>0.1</td><td>setosa</td></tr><tr><th>14</th><td>4.3</td><td>3.0</td><td>1.1</td><td>0.1</td><td>setosa</td></tr><tr><th>15</th><td>5.8</td><td>4.0</td><td>1.2</td><td>0.2</td><td>setosa</td></tr><tr><th>16</th><td>5.7</td><td>4.4</td><td>1.5</td><td>0.4</td><td>setosa</td></tr><tr><th>17</th><td>5.4</td><td>3.9</td><td>1.3</td><td>0.4</td><td>setosa</td></tr><tr><th>18</th><td>5.1</td><td>3.5</td><td>1.4</td><td>0.3</td><td>setosa</td></tr><tr><th>19</th><td>5.7</td><td>3.8</td><td>1.7</td><td>0.3</td><td>setosa</td></tr><tr><th>20</th><td>5.1</td><td>3.8</td><td>1.5</td><td>0.3</td><td>setosa</td></tr><tr><th>21</th><td>5.4</td><td>3.4</td><td>1.7</td><td>0.2</td><td>setosa</td></tr><tr><th>22</th><td>5.1</td><td>3.7</td><td>1.5</td><td>0.4</td><td>setosa</td></tr><tr><th>23</th><td>4.6</td><td>3.6</td><td>1.0</td><td>0.2</td><td>setosa</td></tr><tr><th>24</th><td>5.1</td><td>3.3</td><td>1.7</td><td>0.5</td><td>setosa</td></tr><tr><th>25</th><td>4.8</td><td>3.4</td><td>1.9</td><td>0.2</td><td>setosa</td></tr><tr><th>26</th><td>5.0</td><td>3.0</td><td>1.6</td><td>0.2</td><td>setosa</td></tr><tr><th>27</th><td>5.0</td><td>3.4</td><td>1.6</td><td>0.4</td><td>setosa</td></tr><tr><th>28</th><td>5.2</td><td>3.5</td><td>1.5</td><td>0.2</td><td>setosa</td></tr><tr><th>29</th><td>5.2</td><td>3.4</td><td>1.4</td><td>0.2</td><td>setosa</td></tr><tr><th>30</th><td>4.7</td><td>3.2</td><td>1.6</td><td>0.2</td><td>setosa</td></tr><tr><th>&vellip;</th><td>&vellip;</td><td>&vellip;</td><td>&vellip;</td><td>&vellip;</td><td>&vellip;</td></tr></table>"
       ],
       "metadata": {},
       "output_type": "pyout",
       "prompt_number": 34,
       "text": [
        "150x5 DataFrame\n",
        "|-------|-------------|------------|-------------|------------|-------------|\n",
        "| Row # | SepalLength | SepalWidth | PetalLength | PetalWidth | Species     |\n",
        "| 1     | 5.1         | 3.5        | 1.4         | 0.2        | \"setosa\"    |\n",
        "| 2     | 4.9         | 3.0        | 1.4         | 0.2        | \"setosa\"    |\n",
        "| 3     | 4.7         | 3.2        | 1.3         | 0.2        | \"setosa\"    |\n",
        "| 4     | 4.6         | 3.1        | 1.5         | 0.2        | \"setosa\"    |\n",
        "| 5     | 5.0         | 3.6        | 1.4         | 0.2        | \"setosa\"    |\n",
        "| 6     | 5.4         | 3.9        | 1.7         | 0.4        | \"setosa\"    |\n",
        "| 7     | 4.6         | 3.4        | 1.4         | 0.3        | \"setosa\"    |\n",
        "| 8     | 5.0         | 3.4        | 1.5         | 0.2        | \"setosa\"    |\n",
        "| 9     | 4.4         | 2.9        | 1.4         | 0.2        | \"setosa\"    |\n",
        "| 10    | 4.9         | 3.1        | 1.5         | 0.1        | \"setosa\"    |\n",
        "| 11    | 5.4         | 3.7        | 1.5         | 0.2        | \"setosa\"    |\n",
        "\u22ee\n",
        "| 139   | 6.0         | 3.0        | 4.8         | 1.8        | \"virginica\" |\n",
        "| 140   | 6.9         | 3.1        | 5.4         | 2.1        | \"virginica\" |\n",
        "| 141   | 6.7         | 3.1        | 5.6         | 2.4        | \"virginica\" |\n",
        "| 142   | 6.9         | 3.1        | 5.1         | 2.3        | \"virginica\" |\n",
        "| 143   | 5.8         | 2.7        | 5.1         | 1.9        | \"virginica\" |\n",
        "| 144   | 6.8         | 3.2        | 5.9         | 2.3        | \"virginica\" |\n",
        "| 145   | 6.7         | 3.3        | 5.7         | 2.5        | \"virginica\" |\n",
        "| 146   | 6.7         | 3.0        | 5.2         | 2.3        | \"virginica\" |\n",
        "| 147   | 6.3         | 2.5        | 5.0         | 1.9        | \"virginica\" |\n",
        "| 148   | 6.5         | 3.0        | 5.2         | 2.0        | \"virginica\" |\n",
        "| 149   | 6.2         | 3.4        | 5.4         | 2.3        | \"virginica\" |\n",
        "| 150   | 5.9         | 3.0        | 5.1         | 1.8        | \"virginica\" |"
       ]
      }
     ],
     "prompt_number": 34
    },
    {
     "cell_type": "code",
     "collapsed": false,
     "input": [
      "typeof(iris)"
     ],
     "language": "python",
     "metadata": {},
     "outputs": [
      {
       "metadata": {},
       "output_type": "pyout",
       "prompt_number": 35,
       "text": [
        "DataFrame (constructor with 22 methods)"
       ]
      }
     ],
     "prompt_number": 35
    },
    {
     "cell_type": "code",
     "collapsed": false,
     "input": [
      "by(iris, :Species, df -> DataFrame(mean_length = mean(df[:PetalLength])))"
     ],
     "language": "python",
     "metadata": {},
     "outputs": [
      {
       "html": [
        "<table class=\"data-frame\"><tr><th></th><th>Species</th><th>mean_length</th></tr><tr><th>1</th><td>setosa</td><td>1.462</td></tr><tr><th>2</th><td>versicolor</td><td>4.26</td></tr><tr><th>3</th><td>virginica</td><td>5.552</td></tr></table>"
       ],
       "metadata": {},
       "output_type": "pyout",
       "prompt_number": 36,
       "text": [
        "3x2 DataFrame\n",
        "|-------|--------------|-------------|\n",
        "| Row # | Species      | mean_length |\n",
        "| 1     | \"setosa\"     | 1.462       |\n",
        "| 2     | \"versicolor\" | 4.26        |\n",
        "| 3     | \"virginica\"  | 5.552       |"
       ]
      }
     ],
     "prompt_number": 36
    },
    {
     "cell_type": "markdown",
     "metadata": {},
     "source": [
      "### Notes:\n",
      "\n",
      "* `using` pulls dependencies too, in this case including `DataFrames`\n",
      "* `show(DataFrame)` outputs Markdown-compatible tables\n",
      "* `by` is part of [split-apply-combine idiom](http://www.jstatsoft.org/v40/i01/paper) for DFs\n",
      "* `:Species` is a symbol, ala LISP, used frequently instead of Enums\n",
      "* `df -> ...` is an anonymous function\n",
      "* `DataFrame` constructor gets the new column name by tricky use of named arguments\n",
      "* can index DFs with string names, symbol names, or position"
     ]
    },
    {
     "cell_type": "code",
     "collapsed": false,
     "input": [
      "using GLM\n",
      "lm1 = fit(LinearModel, SepalLength ~ SepalWidth + PetalLength, iris)"
     ],
     "language": "python",
     "metadata": {},
     "outputs": [
      {
       "metadata": {},
       "output_type": "pyout",
       "prompt_number": 39,
       "text": [
        "DataFrameRegressionModel{LinearModel{DensePredQR{Float64}},Float64}:\n",
        "\n",
        "Coefficients:\n",
        "             Estimate Std.Error t value Pr(>|t|)\n",
        "(Intercept)   2.24914   0.24797 9.07022   <1e-15\n",
        "SepalWidth   0.595525 0.0693282 8.58994   <1e-13\n",
        "PetalLength   0.47192 0.0171177 27.5692   <1e-59\n"
       ]
      },
      {
       "output_type": "stream",
       "stream": "stderr",
       "text": [
        "Warning: could not import Base.add! into NumericExtensions\n"
       ]
      }
     ],
     "prompt_number": 39
    },
    {
     "cell_type": "code",
     "collapsed": false,
     "input": [
      "a ~ b + c"
     ],
     "language": "python",
     "metadata": {},
     "outputs": [
      {
       "metadata": {},
       "output_type": "pyout",
       "prompt_number": 40,
       "text": [
        "Formula: a ~ b + c"
       ]
      }
     ],
     "prompt_number": 40
    },
    {
     "cell_type": "markdown",
     "metadata": {},
     "source": [
      "### Notes:\n",
      "\n",
      "* `fit` is a generic function, specialized here on a model type, a Formula, and data\n",
      "* type of `lm1` is interesting\n",
      "* `~` is [syntactic sugar](https://github.com/JuliaLang/julia/issues/4882) that calls a macro that captures the expression in a Formula"
     ]
    },
    {
     "cell_type": "markdown",
     "metadata": {},
     "source": [
      "### See VennEuler elsewhere -- or we're done!"
     ]
    },
    {
     "cell_type": "markdown",
     "metadata": {},
     "source": [
      "---\n",
      "\n",
      "![CC4.0](https://i.creativecommons.org/l/by/4.0/88x31.png)\n",
      "\n",
      "This work is licensed under a [Creative Commons Attribution 4.0 International License](http://creativecommons.org/licenses/by/4.0/)."
     ]
    }
   ],
   "metadata": {}
  }
 ]
}