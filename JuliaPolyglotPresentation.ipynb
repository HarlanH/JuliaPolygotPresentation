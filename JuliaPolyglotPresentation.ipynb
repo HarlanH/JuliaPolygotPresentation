{
 "metadata": {
  "language": "Julia",
  "name": "",
  "signature": "sha256:256a7beb3a0eb0b922ae91568766b003b47a9288c8cd29b58e7e4873620914ce"
 },
 "nbformat": 3,
 "nbformat_minor": 0,
 "worksheets": [
  {
   "cells": [
    {
     "cell_type": "heading",
     "level": 1,
     "metadata": {},
     "source": [
      "Julia -- a high-level, high-performance dynamic programming language for *mostly monoglot* technical computing"
     ]
    },
    {
     "cell_type": "heading",
     "level": 3,
     "metadata": {},
     "source": [
      "Harlan D. Harris, PhD"
     ]
    },
    {
     "cell_type": "markdown",
     "metadata": {},
     "source": [
      "Presented to the [Polyglot Programming DC Meetup](http://www.meetup.com/Polyglot-Programming-DC/events/186702032/), August 7th, 2014.\n",
      "\n",
      "GitHub repo: https://github.com/HarlanH/JuliaPolygotPresentation\n",
      "\n",
      "Huge parts of this presentation are cribbed from:\n",
      "\n",
      "* [Stefan Karpinski's 2013 Strange Loop presentation](http://nbviewer.ipython.org/gist/StefanKarpinski/b8fe9dbb36c1427b9f22)\n",
      "* [Jiahao Chen's presentation on Compilers and Community](http://www.slideshare.net/acidflask/julia-compilercommunity)\n",
      "* [Graydon Hoare's blog post on scientific computing languages](http://graydon2.dreamwidth.org/189377.html)\n",
      "* [Doug Bates' tutorials aimed at R users](http://nbviewer.ipython.org/github/dmbates/JuliaWorkshop/tree/master/)\n",
      "* ..."
     ]
    },
    {
     "cell_type": "markdown",
     "metadata": {},
     "source": [
      "Things I want to cover:\n",
      "\n",
      "* who and why\n",
      "* what's wrong with Matlab, C++, PyData, R, etc.\n",
      "* what programming language designers have learned\n",
      "* Julia is specifically intended not to be polyglot\n",
      "* it's fast\n",
      "* it has familiar syntax and semantics\n",
      "* it has syntactic sugar that's sweet for math\n",
      "* it's designed to build and support a community\n",
      "* multiple dispatch is particularly suited for technical computing\n",
      "* it's not object-oriented, but has simple hierarchical types and modules\n",
      "* Jupyter Notebooks are awesomesauce\n",
      "* turtles 90% of the way down\n",
      "* advanced stuff: metaprogramming, coroutines, distributed processing, C/Fortran/C++ interfaces\n",
      "* the Package ecosystem\n",
      "* DataFrames\n",
      "* VennEuler"
     ]
    },
    {
     "cell_type": "code",
     "collapsed": false,
     "input": [],
     "language": "python",
     "metadata": {},
     "outputs": []
    }
   ],
   "metadata": {}
  }
 ]
}