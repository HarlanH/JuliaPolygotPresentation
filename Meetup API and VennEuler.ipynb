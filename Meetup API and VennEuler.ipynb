{
 "metadata": {
  "language": "Julia",
  "name": "",
  "signature": "sha256:872c9e2ce2149f173d87c12dff8bf978d10554dc8553b5199cda288a6899bf4d"
 },
 "nbformat": 3,
 "nbformat_minor": 0,
 "worksheets": [
  {
   "cells": [
    {
     "cell_type": "code",
     "collapsed": false,
     "input": [
      "using Requests\n",
      "using JSON"
     ],
     "language": "python",
     "metadata": {},
     "outputs": [],
     "prompt_number": 1
    },
    {
     "cell_type": "code",
     "collapsed": false,
     "input": [
      "apikey = open(readchomp, \"apikey\");\n",
      "apikey[1:5]\n"
     ],
     "language": "python",
     "metadata": {},
     "outputs": [
      {
       "metadata": {},
       "output_type": "pyout",
       "prompt_number": 2,
       "text": [
        "\"732e2\""
       ]
      }
     ],
     "prompt_number": 2
    },
    {
     "cell_type": "code",
     "collapsed": false,
     "input": [
      "# functions: getGroupInfo, getMembers, listOfSetsToArray\n",
      "function getGroupInfo(apikey, urlname) \n",
      "    request = \"https://api.meetup.com/2/groups?key=$apikey&sign=true&group_urlname=$urlname\"\n",
      "    ret = get(request)\n",
      "    dat = JSON.parse(ret.data)\n",
      "    dat[\"results\"][1]\n",
      "end\n",
      "gi = getGroupInfo(apikey, \"Polyglot-Programming-DC\")"
     ],
     "language": "python",
     "metadata": {},
     "outputs": [
      {
       "metadata": {},
       "output_type": "pyout",
       "prompt_number": 3,
       "text": [
        "Dict{String,Any} with 21 entries:\n",
        "  \"lat\"         => 38.900001525878906\n",
        "  \"visibility\"  => \"public\"\n",
        "  \"who\"         => \"Polyglots\"\n",
        "  \"rating\"      => 4.75\n",
        "  \"link\"        => \"http://www.meetup.com/Polyglot-Programming-DC/\"\n",
        "  \"timezone\"    => \"US/Eastern\"\n",
        "  \"lon\"         => -77.04000091552734\n",
        "  \"state\"       => \"DC\"\n",
        "  \"organizer\"   => [\"name\"=>\"Joshua Szmajda\",\"member_id\"=>10624849]\n",
        "  \"name\"        => \"Polyglot Programming DC\"\n",
        "  \"urlname\"     => \"Polyglot-Programming-DC\"\n",
        "  \"id\"          => 14342002\n",
        "  \"created\"     => 1399579216000\n",
        "  \"topics\"      => {[\"name\"=>\"Ruby\",\"urlkey\"=>\"ruby\",\"id\"=>1040],[\"name\"=>\"Pyth\u2026\n",
        "  \"description\" => \"<p><b>We're all about learning from and about other program\u2026\n",
        "  \"country\"     => \"US\"\n",
        "  \"join_mode\"   => \"open\"\n",
        "  \"members\"     => 269\n",
        "  \"category\"    => [\"shortname\"=>\"tech\",\"name\"=>\"tech\",\"id\"=>34]\n",
        "  \"city\"        => \"Washington\"\n",
        "  \"group_photo\" => [\"thumb_link\"=>\"http://photos1.meetupstatic.com/photos/event\u2026"
       ]
      }
     ],
     "prompt_number": 3
    },
    {
     "cell_type": "code",
     "collapsed": false,
     "input": [
      "function getMembers(apikey, group_id, memberCt; verbose=true)\n",
      "    chunksize = 200 \n",
      "    memberIds = Array(Int,0)\n",
      "    if verbose print(group_id) end\n",
      "    for page in 0:ifloor(memberCt/chunksize)\n",
      "        request = \"https://api.meetup.com/2/members?key=$apikey&sign=true&group_id=$group_id&page=$chunksize&offset=$page&only=id\"\n",
      "        ret = get(request)\n",
      "        dat = JSON.parse(ret.data)\n",
      "        if verbose print('.') end\n",
      "        for x in dat[\"results\"]\n",
      "            push!(memberIds, x[\"id\"])\n",
      "        end\n",
      "    end\n",
      "    if verbose println() end\n",
      "    memberIds\n",
      "end\n",
      "member_ids = getMembers(apikey, gi[\"id\"], gi[\"members\"])\n",
      "member_ids[1:20]"
     ],
     "language": "python",
     "metadata": {},
     "outputs": [
      {
       "output_type": "stream",
       "stream": "stdout",
       "text": [
        "14342002"
       ]
      },
      {
       "output_type": "stream",
       "stream": "stdout",
       "text": [
        "."
       ]
      },
      {
       "output_type": "stream",
       "stream": "stdout",
       "text": [
        ".\n"
       ]
      },
      {
       "metadata": {},
       "output_type": "pyout",
       "prompt_number": 4,
       "text": [
        "20-element Array{Int64,1}:\n",
        "  25039192\n",
        "   9695541\n",
        " 118843902\n",
        "  21834371\n",
        "  69726222\n",
        " 103006412\n",
        "  11720610\n",
        "   3823597\n",
        "   6250606\n",
        " 128150592\n",
        "  47530372\n",
        " 115491872\n",
        "  60969402\n",
        "   7623015\n",
        "  12052332\n",
        "  13777737\n",
        "   9499273\n",
        "  13899863\n",
        "   7065559\n",
        "  12794748"
       ]
      }
     ],
     "prompt_number": 4
    },
    {
     "cell_type": "code",
     "collapsed": false,
     "input": [
      "# great, seems to work, now get all the members for relevant Meetups, storing as a dict of sets\n",
      "group_names = [\"Polyglot-Programming-DC\", \"DCPython\", \"ClojureDC\", \n",
      "    \"DC-jQuery-Users-Group\", \"AngularJS-DC\", \"dcruby\"]\n",
      "group_members_struct = Dict()\n",
      "for grname in group_names\n",
      "    gi = getGroupInfo(apikey, grname)\n",
      "    group_members_struct[grname] = \n",
      "        Set(getMembers(apikey, gi[\"id\"], gi[\"members\"])...)\n",
      "end\n",
      "group_members_struct"
     ],
     "language": "python",
     "metadata": {},
     "outputs": [
      {
       "output_type": "stream",
       "stream": "stdout",
       "text": [
        "14342002"
       ]
      },
      {
       "output_type": "stream",
       "stream": "stdout",
       "text": [
        "."
       ]
      },
      {
       "output_type": "stream",
       "stream": "stdout",
       "text": [
        ".\n"
       ]
      },
      {
       "output_type": "stream",
       "stream": "stdout",
       "text": [
        "412508"
       ]
      },
      {
       "output_type": "stream",
       "stream": "stdout",
       "text": [
        "."
       ]
      },
      {
       "output_type": "stream",
       "stream": "stdout",
       "text": [
        "."
       ]
      },
      {
       "output_type": "stream",
       "stream": "stdout",
       "text": [
        "."
       ]
      },
      {
       "output_type": "stream",
       "stream": "stdout",
       "text": [
        "."
       ]
      },
      {
       "output_type": "stream",
       "stream": "stdout",
       "text": [
        "."
       ]
      },
      {
       "output_type": "stream",
       "stream": "stdout",
       "text": [
        "."
       ]
      },
      {
       "output_type": "stream",
       "stream": "stdout",
       "text": [
        "."
       ]
      },
      {
       "output_type": "stream",
       "stream": "stdout",
       "text": [
        "."
       ]
      },
      {
       "output_type": "stream",
       "stream": "stdout",
       "text": [
        "."
       ]
      },
      {
       "output_type": "stream",
       "stream": "stdout",
       "text": [
        ".\n"
       ]
      },
      {
       "output_type": "stream",
       "stream": "stdout",
       "text": [
        "4434892"
       ]
      },
      {
       "output_type": "stream",
       "stream": "stdout",
       "text": [
        "."
       ]
      },
      {
       "output_type": "stream",
       "stream": "stdout",
       "text": [
        ".\n"
       ]
      },
      {
       "output_type": "stream",
       "stream": "stdout",
       "text": [
        "1740055"
       ]
      },
      {
       "output_type": "stream",
       "stream": "stdout",
       "text": [
        "."
       ]
      },
      {
       "output_type": "stream",
       "stream": "stdout",
       "text": [
        "."
       ]
      },
      {
       "output_type": "stream",
       "stream": "stdout",
       "text": [
        "."
       ]
      },
      {
       "output_type": "stream",
       "stream": "stdout",
       "text": [
        "."
       ]
      },
      {
       "output_type": "stream",
       "stream": "stdout",
       "text": [
        "."
       ]
      },
      {
       "output_type": "stream",
       "stream": "stdout",
       "text": [
        "."
       ]
      },
      {
       "output_type": "stream",
       "stream": "stdout",
       "text": [
        ".\n"
       ]
      },
      {
       "output_type": "stream",
       "stream": "stdout",
       "text": [
        "6388232"
       ]
      },
      {
       "output_type": "stream",
       "stream": "stdout",
       "text": [
        "."
       ]
      },
      {
       "output_type": "stream",
       "stream": "stdout",
       "text": [
        "."
       ]
      },
      {
       "output_type": "stream",
       "stream": "stdout",
       "text": [
        "."
       ]
      },
      {
       "output_type": "stream",
       "stream": "stdout",
       "text": [
        "."
       ]
      },
      {
       "output_type": "stream",
       "stream": "stdout",
       "text": [
        ".\n"
       ]
      },
      {
       "output_type": "stream",
       "stream": "stdout",
       "text": [
        "1397868"
       ]
      },
      {
       "output_type": "stream",
       "stream": "stdout",
       "text": [
        "."
       ]
      },
      {
       "output_type": "stream",
       "stream": "stdout",
       "text": [
        "."
       ]
      },
      {
       "output_type": "stream",
       "stream": "stdout",
       "text": [
        "."
       ]
      },
      {
       "output_type": "stream",
       "stream": "stdout",
       "text": [
        "."
       ]
      },
      {
       "output_type": "stream",
       "stream": "stdout",
       "text": [
        "."
       ]
      },
      {
       "output_type": "stream",
       "stream": "stdout",
       "text": [
        "."
       ]
      },
      {
       "output_type": "stream",
       "stream": "stdout",
       "text": [
        "."
       ]
      },
      {
       "output_type": "stream",
       "stream": "stdout",
       "text": [
        "."
       ]
      },
      {
       "output_type": "stream",
       "stream": "stdout",
       "text": [
        ".\n"
       ]
      },
      {
       "metadata": {},
       "output_type": "pyout",
       "prompt_number": 5,
       "text": [
        "Dict{Any,Any} with 6 entries:\n",
        "  \"dcruby\"                 => Set{Int64}({65150452,9357700,13184058,27799582,90\u2026\n",
        "  \"DCPython\"               => Set{Int64}({14144065,100042992,1611067,13184058,2\u2026\n",
        "  \"DC-jQuery-Users-Group\"  => Set{Int64}({13184058,62380632,98383732,8086433,43\u2026\n",
        "  \"ClojureDC\"              => Set{Int64}({35975622,9821280,43011902,8820219,462\u2026\n",
        "  \"AngularJS-DC\"           => Set{Int64}({7402981,13184058,9821280,26669602,747\u2026\n",
        "  \"Polyglot-Programming-D\u2026 => Set{Int64}({8294317,9009918,30379442,9821280,5592\u2026"
       ]
      }
     ],
     "prompt_number": 5
    },
    {
     "cell_type": "code",
     "collapsed": false,
     "input": [
      "# then convert that dict of sets to a bool matrix\n",
      "everyone = union([v for (k,v) in group_members_struct]...)\n",
      "memb_group = [in(memb, group_members_struct[group]) \n",
      "                for memb in everyone, group in group_names]"
     ],
     "language": "python",
     "metadata": {},
     "outputs": [
      {
       "metadata": {},
       "output_type": "pyout",
       "prompt_number": 6,
       "text": [
        "4991x6 Array{Any,2}:\n",
        " false   true  false  false  false  false\n",
        " false  false  false  false  false   true\n",
        " false  false  false   true  false  false\n",
        " false  false  false  false   true  false\n",
        " false  false  false  false  false   true\n",
        " false  false  false  false  false   true\n",
        " false   true  false   true  false  false\n",
        " false  false  false   true  false   true\n",
        " false   true  false  false  false  false\n",
        " false  false  false  false  false   true\n",
        " false   true  false  false  false  false\n",
        " false  false  false   true  false  false\n",
        " false   true  false  false  false  false\n",
        "     \u22ee                                  \u22ee\n",
        " false   true  false  false  false  false\n",
        " false  false  false  false  false   true\n",
        " false  false  false  false   true  false\n",
        " false  false  false  false   true  false\n",
        " false   true  false  false  false  false\n",
        " false   true  false  false  false  false\n",
        " false  false  false  false  false   true\n",
        " false   true  false   true  false  false\n",
        " false  false  false   true  false  false\n",
        " false   true  false   true   true  false\n",
        " false   true  false   true  false   true\n",
        " false  false  false  false  false   true"
       ]
      }
     ],
     "prompt_number": 6
    },
    {
     "cell_type": "code",
     "collapsed": false,
     "input": [
      "# and now we're good to make a VennEuler diagram!\n",
      "using VennEuler"
     ],
     "language": "python",
     "metadata": {},
     "outputs": [],
     "prompt_number": 7
    },
    {
     "cell_type": "code",
     "collapsed": false,
     "input": [
      "eo = make_euler_object(group_names, memb_group, EulerSpec(:rectangle), \n",
      "    sizesum=.5) # rectangles > circles!\n",
      "\n",
      "(minf,minx,ret) = optimize_iteratively(eo, random_state(eo), \n",
      "    ftol=-1, xtol=0.0025, maxtime=5, pop=100)\n",
      "(minf,minx,ret) = optimize(eo, minx, \n",
      "    ftol=.001, xtol=0.0025, maxtime=20, pop=200)\n",
      "println(\"got $minf at $minx (returned $ret)\")\n"
     ],
     "language": "python",
     "metadata": {},
     "outputs": [
      {
       "output_type": "stream",
       "stream": "stdout",
       "text": [
        "got 0.08254094788828058 at [0.22694019520518346,0.7303880592096269,0.9011552052380629,0.6060192235744059,0.6060192235744059,0.7722772069474991,0.7272310339681622,0.46944149667955265,0.5508527722217431,0.4377744432243434,0.487964831336767,0.5562112239683623,0.4681568448744543,0.6389686763062354,0.42347478825907126,0.4508148545710492,0.525729031726672,0.7366408091599095] (returned MAXTIME_REACHED)\n"
       ]
      },
      {
       "output_type": "stream",
       "stream": "stdout",
       "text": [
        "got 0.023176964047403666 at [0.22694019520518346,0.7303880592096269,0.9011552052380629,0.6060192235744059,0.6060192235744059,0.7722772069474991,0.7272310339681622,0.46944149667955265,0.5508527722217431,0.4377744432243434,0.487964831336767,0.5562112239683623,0.4681568448744543,0.6389686763062354,0.42347478825907126,0.511384365687799,0.37197350585605143,0.9960283078540143] (returned MAXTIME_REACHED)"
       ]
      },
      {
       "output_type": "stream",
       "stream": "stdout",
       "text": [
        "\n",
        "got 0.01631408983065097 at [0.22694019520518346,0.7303880592096269,0.9011552052380629,0.6060192235744059,0.6060192235744059,0.7722772069474991,0.7272310339681622,0.46944149667955265,0.5508527722217431,0.36914645463050144,0.5374618629156875,0.1781431004690635,0.4681568448744543,0.6389686763062354,0.42347478825907126,0.511384365687799,0.37197350585605143,0.9960283078540143] (returned MAXTIME_REACHED)"
       ]
      },
      {
       "output_type": "stream",
       "stream": "stdout",
       "text": [
        "\n",
        "got 0.012085079125275087 at [0.22694019520518346,0.7303880592096269,0.9011552052380629,0.6060192235744059,0.6060192235744059,0.7722772069474991,0.7272310339681622,0.46944149667955265,0.5508527722217431,0.36914645463050144,0.5374618629156875,0.1781431004690635,0.3348853536274506,0.652271533672678,0.0,0.511384365687799,0.37197350585605143,0.9960283078540143] (returned XTOL_REACHED)"
       ]
      },
      {
       "output_type": "stream",
       "stream": "stdout",
       "text": [
        "\n",
        "got 0.007981881048547136 at [0.5106344315772435,0.5331474789148044,1.0,0.6060192235744059,0.6060192235744059,0.7722772069474991,0.7272310339681622,0.46944149667955265,0.5508527722217431,0.36914645463050144,0.5374618629156875,0.1781431004690635,0.3348853536274506,0.652271533672678,0.0,0.511384365687799,0.37197350585605143,0.9960283078540143] (returned MAXTIME_REACHED)"
       ]
      },
      {
       "output_type": "stream",
       "stream": "stdout",
       "text": [
        "\n",
        "got 0.004511560095502489 at [0.5106344315772435,0.5331474789148044,1.0,0.6060192235744059,0.6060192235744059,0.7722772069474991,0.5395523288129426,0.6100469707925631,1.0,0.36914645463050144,0.5374618629156875,0.1781431004690635,0.3348853536274506,0.652271533672678,0.0,0.511384365687799,0.37197350585605143,0.9960283078540143] (returned MAXTIME_REACHED)"
       ]
      },
      {
       "output_type": "stream",
       "stream": "stdout",
       "text": [
        "\n",
        "got 0.00407838236085788 at [0.5057498788190855,0.5124315968872065,1.0,0.6060192235744059,0.6060192235744059,0.7629396255002197,0.5403619366313298,0.6373178840378172,1.0,0.34916512868434224,0.5335876630983664,0.13119740162093965,0.30029930794647497,0.6626907282695202,0.0,0.46409402046581616,0.3719735058560514,1.0] (returned FTOL_REACHED)"
       ]
      },
      {
       "output_type": "stream",
       "stream": "stdout",
       "text": [
        "\n"
       ]
      }
     ],
     "prompt_number": 8
    },
    {
     "cell_type": "code",
     "collapsed": false,
     "input": [
      "render(\"asdf.svg\", eo, minx)"
     ],
     "language": "python",
     "metadata": {},
     "outputs": [],
     "prompt_number": 9
    },
    {
     "cell_type": "markdown",
     "metadata": {},
     "source": [
      "![Programming Meetups](files/asdf.svg)"
     ]
    },
    {
     "cell_type": "code",
     "collapsed": false,
     "input": [],
     "language": "python",
     "metadata": {},
     "outputs": []
    }
   ],
   "metadata": {}
  }
 ]
}